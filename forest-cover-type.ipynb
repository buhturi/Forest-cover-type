{
 "cells": [
  {
   "cell_type": "code",
   "execution_count": 1,
   "id": "ca1b477b",
   "metadata": {
    "_cell_guid": "03c5cfbb-6220-4fde-ab45-9a6a27dfa88e",
    "_uuid": "5ecbd47e-c559-4a29-8cca-0ab93be8a393",
    "collapsed": false,
    "execution": {
     "iopub.execute_input": "2021-08-24T03:56:10.115756Z",
     "iopub.status.busy": "2021-08-24T03:56:10.111789Z",
     "iopub.status.idle": "2021-08-24T03:56:11.691019Z",
     "shell.execute_reply": "2021-08-24T03:56:11.689766Z",
     "shell.execute_reply.started": "2021-08-24T03:51:36.340507Z"
    },
    "jupyter": {
     "outputs_hidden": false
    },
    "papermill": {
     "duration": 1.62627,
     "end_time": "2021-08-24T03:56:11.691289",
     "exception": false,
     "start_time": "2021-08-24T03:56:10.065019",
     "status": "completed"
    },
    "tags": []
   },
   "outputs": [],
   "source": [
    "import pandas as pd\n",
    "import numpy as np\n",
    "import matplotlib.pyplot as plt\n",
    "import seaborn as sns\n",
    "from sklearn.neighbors import KNeighborsClassifier\n",
    "from sklearn.ensemble import RandomForestClassifier\n",
    "from sklearn.tree import DecisionTreeClassifier\n",
    "from sklearn.model_selection import train_test_split\n",
    "from sklearn.metrics import accuracy_score"
   ]
  },
  {
   "cell_type": "markdown",
   "id": "a7b7ccb8",
   "metadata": {
    "papermill": {
     "duration": 0.021492,
     "end_time": "2021-08-24T03:56:11.736255",
     "exception": false,
     "start_time": "2021-08-24T03:56:11.714763",
     "status": "completed"
    },
    "tags": []
   },
   "source": [
    "**import train and test files**"
   ]
  },
  {
   "cell_type": "code",
   "execution_count": 2,
   "id": "bfcf11ac",
   "metadata": {
    "execution": {
     "iopub.execute_input": "2021-08-24T03:56:11.788053Z",
     "iopub.status.busy": "2021-08-24T03:56:11.787187Z",
     "iopub.status.idle": "2021-08-24T03:56:14.708365Z",
     "shell.execute_reply": "2021-08-24T03:56:14.707659Z",
     "shell.execute_reply.started": "2021-08-24T03:51:39.906846Z"
    },
    "papermill": {
     "duration": 2.949956,
     "end_time": "2021-08-24T03:56:14.708517",
     "exception": false,
     "start_time": "2021-08-24T03:56:11.758561",
     "status": "completed"
    },
    "tags": []
   },
   "outputs": [],
   "source": [
    "import zipfile\n",
    "train_zip = zipfile.ZipFile('../input/forest-cover-type-kernels-only/train.csv.zip')\n",
    "test_zip = zipfile.ZipFile('../input/forest-cover-type-kernels-only/test.csv.zip')\n",
    "\n",
    "data = pd.read_csv(train_zip.open('train.csv'))\n",
    "test_data =  pd.read_csv(test_zip.open('test.csv'))"
   ]
  },
  {
   "cell_type": "markdown",
   "id": "101b484e",
   "metadata": {
    "papermill": {
     "duration": 0.023892,
     "end_time": "2021-08-24T03:56:14.752647",
     "exception": false,
     "start_time": "2021-08-24T03:56:14.728755",
     "status": "completed"
    },
    "tags": []
   },
   "source": [
    "**Data cleaning**\n",
    "\n",
    "**get info and check for null values** \n",
    "\n",
    "**get duplicates and drop it if exists**"
   ]
  },
  {
   "cell_type": "code",
   "execution_count": 3,
   "id": "e54d90d2",
   "metadata": {
    "execution": {
     "iopub.execute_input": "2021-08-24T03:56:14.803359Z",
     "iopub.status.busy": "2021-08-24T03:56:14.802372Z",
     "iopub.status.idle": "2021-08-24T03:56:14.834837Z",
     "shell.execute_reply": "2021-08-24T03:56:14.833843Z",
     "shell.execute_reply.started": "2021-08-24T03:51:42.980776Z"
    },
    "papermill": {
     "duration": 0.059916,
     "end_time": "2021-08-24T03:56:14.835073",
     "exception": false,
     "start_time": "2021-08-24T03:56:14.775157",
     "status": "completed"
    },
    "tags": []
   },
   "outputs": [
    {
     "name": "stdout",
     "output_type": "stream",
     "text": [
      "<class 'pandas.core.frame.DataFrame'>\n",
      "RangeIndex: 15120 entries, 0 to 15119\n",
      "Data columns (total 56 columns):\n",
      " #   Column                              Non-Null Count  Dtype\n",
      "---  ------                              --------------  -----\n",
      " 0   Id                                  15120 non-null  int64\n",
      " 1   Elevation                           15120 non-null  int64\n",
      " 2   Aspect                              15120 non-null  int64\n",
      " 3   Slope                               15120 non-null  int64\n",
      " 4   Horizontal_Distance_To_Hydrology    15120 non-null  int64\n",
      " 5   Vertical_Distance_To_Hydrology      15120 non-null  int64\n",
      " 6   Horizontal_Distance_To_Roadways     15120 non-null  int64\n",
      " 7   Hillshade_9am                       15120 non-null  int64\n",
      " 8   Hillshade_Noon                      15120 non-null  int64\n",
      " 9   Hillshade_3pm                       15120 non-null  int64\n",
      " 10  Horizontal_Distance_To_Fire_Points  15120 non-null  int64\n",
      " 11  Wilderness_Area1                    15120 non-null  int64\n",
      " 12  Wilderness_Area2                    15120 non-null  int64\n",
      " 13  Wilderness_Area3                    15120 non-null  int64\n",
      " 14  Wilderness_Area4                    15120 non-null  int64\n",
      " 15  Soil_Type1                          15120 non-null  int64\n",
      " 16  Soil_Type2                          15120 non-null  int64\n",
      " 17  Soil_Type3                          15120 non-null  int64\n",
      " 18  Soil_Type4                          15120 non-null  int64\n",
      " 19  Soil_Type5                          15120 non-null  int64\n",
      " 20  Soil_Type6                          15120 non-null  int64\n",
      " 21  Soil_Type7                          15120 non-null  int64\n",
      " 22  Soil_Type8                          15120 non-null  int64\n",
      " 23  Soil_Type9                          15120 non-null  int64\n",
      " 24  Soil_Type10                         15120 non-null  int64\n",
      " 25  Soil_Type11                         15120 non-null  int64\n",
      " 26  Soil_Type12                         15120 non-null  int64\n",
      " 27  Soil_Type13                         15120 non-null  int64\n",
      " 28  Soil_Type14                         15120 non-null  int64\n",
      " 29  Soil_Type15                         15120 non-null  int64\n",
      " 30  Soil_Type16                         15120 non-null  int64\n",
      " 31  Soil_Type17                         15120 non-null  int64\n",
      " 32  Soil_Type18                         15120 non-null  int64\n",
      " 33  Soil_Type19                         15120 non-null  int64\n",
      " 34  Soil_Type20                         15120 non-null  int64\n",
      " 35  Soil_Type21                         15120 non-null  int64\n",
      " 36  Soil_Type22                         15120 non-null  int64\n",
      " 37  Soil_Type23                         15120 non-null  int64\n",
      " 38  Soil_Type24                         15120 non-null  int64\n",
      " 39  Soil_Type25                         15120 non-null  int64\n",
      " 40  Soil_Type26                         15120 non-null  int64\n",
      " 41  Soil_Type27                         15120 non-null  int64\n",
      " 42  Soil_Type28                         15120 non-null  int64\n",
      " 43  Soil_Type29                         15120 non-null  int64\n",
      " 44  Soil_Type30                         15120 non-null  int64\n",
      " 45  Soil_Type31                         15120 non-null  int64\n",
      " 46  Soil_Type32                         15120 non-null  int64\n",
      " 47  Soil_Type33                         15120 non-null  int64\n",
      " 48  Soil_Type34                         15120 non-null  int64\n",
      " 49  Soil_Type35                         15120 non-null  int64\n",
      " 50  Soil_Type36                         15120 non-null  int64\n",
      " 51  Soil_Type37                         15120 non-null  int64\n",
      " 52  Soil_Type38                         15120 non-null  int64\n",
      " 53  Soil_Type39                         15120 non-null  int64\n",
      " 54  Soil_Type40                         15120 non-null  int64\n",
      " 55  Cover_Type                          15120 non-null  int64\n",
      "dtypes: int64(56)\n",
      "memory usage: 6.5 MB\n"
     ]
    }
   ],
   "source": [
    "data.info()"
   ]
  },
  {
   "cell_type": "code",
   "execution_count": 4,
   "id": "5b8ebdb5",
   "metadata": {
    "execution": {
     "iopub.execute_input": "2021-08-24T03:56:14.888586Z",
     "iopub.status.busy": "2021-08-24T03:56:14.887596Z",
     "iopub.status.idle": "2021-08-24T03:56:14.896223Z",
     "shell.execute_reply": "2021-08-24T03:56:14.896994Z",
     "shell.execute_reply.started": "2021-08-24T03:51:43.019387Z"
    },
    "papermill": {
     "duration": 0.037074,
     "end_time": "2021-08-24T03:56:14.897262",
     "exception": false,
     "start_time": "2021-08-24T03:56:14.860188",
     "status": "completed"
    },
    "tags": []
   },
   "outputs": [
    {
     "name": "stdout",
     "output_type": "stream",
     "text": [
      "Id                                    0\n",
      "Elevation                             0\n",
      "Aspect                                0\n",
      "Slope                                 0\n",
      "Horizontal_Distance_To_Hydrology      0\n",
      "Vertical_Distance_To_Hydrology        0\n",
      "Horizontal_Distance_To_Roadways       0\n",
      "Hillshade_9am                         0\n",
      "Hillshade_Noon                        0\n",
      "Hillshade_3pm                         0\n",
      "Horizontal_Distance_To_Fire_Points    0\n",
      "Wilderness_Area1                      0\n",
      "Wilderness_Area2                      0\n",
      "Wilderness_Area3                      0\n",
      "Wilderness_Area4                      0\n",
      "Soil_Type1                            0\n",
      "Soil_Type2                            0\n",
      "Soil_Type3                            0\n",
      "Soil_Type4                            0\n",
      "Soil_Type5                            0\n",
      "Soil_Type6                            0\n",
      "Soil_Type7                            0\n",
      "Soil_Type8                            0\n",
      "Soil_Type9                            0\n",
      "Soil_Type10                           0\n",
      "Soil_Type11                           0\n",
      "Soil_Type12                           0\n",
      "Soil_Type13                           0\n",
      "Soil_Type14                           0\n",
      "Soil_Type15                           0\n",
      "Soil_Type16                           0\n",
      "Soil_Type17                           0\n",
      "Soil_Type18                           0\n",
      "Soil_Type19                           0\n",
      "Soil_Type20                           0\n",
      "Soil_Type21                           0\n",
      "Soil_Type22                           0\n",
      "Soil_Type23                           0\n",
      "Soil_Type24                           0\n",
      "Soil_Type25                           0\n",
      "Soil_Type26                           0\n",
      "Soil_Type27                           0\n",
      "Soil_Type28                           0\n",
      "Soil_Type29                           0\n",
      "Soil_Type30                           0\n",
      "Soil_Type31                           0\n",
      "Soil_Type32                           0\n",
      "Soil_Type33                           0\n",
      "Soil_Type34                           0\n",
      "Soil_Type35                           0\n",
      "Soil_Type36                           0\n",
      "Soil_Type37                           0\n",
      "Soil_Type38                           0\n",
      "Soil_Type39                           0\n",
      "Soil_Type40                           0\n",
      "Cover_Type                            0\n",
      "dtype: int64\n"
     ]
    }
   ],
   "source": [
    "#check for null values and count it\n",
    "print(data.isnull().sum())"
   ]
  },
  {
   "cell_type": "code",
   "execution_count": 5,
   "id": "b04ae3d4",
   "metadata": {
    "execution": {
     "iopub.execute_input": "2021-08-24T03:56:14.949434Z",
     "iopub.status.busy": "2021-08-24T03:56:14.948748Z",
     "iopub.status.idle": "2021-08-24T03:56:14.985921Z",
     "shell.execute_reply": "2021-08-24T03:56:14.984947Z",
     "shell.execute_reply.started": "2021-08-24T03:51:43.367010Z"
    },
    "papermill": {
     "duration": 0.065758,
     "end_time": "2021-08-24T03:56:14.986184",
     "exception": false,
     "start_time": "2021-08-24T03:56:14.920426",
     "status": "completed"
    },
    "tags": []
   },
   "outputs": [
    {
     "data": {
      "text/plain": [
       "0        False\n",
       "1        False\n",
       "2        False\n",
       "3        False\n",
       "4        False\n",
       "         ...  \n",
       "15115    False\n",
       "15116    False\n",
       "15117    False\n",
       "15118    False\n",
       "15119    False\n",
       "Length: 15120, dtype: bool"
      ]
     },
     "execution_count": 5,
     "metadata": {},
     "output_type": "execute_result"
    }
   ],
   "source": [
    "#get duplicates \n",
    "data.duplicated()"
   ]
  },
  {
   "cell_type": "code",
   "execution_count": 6,
   "id": "ef7dc9c1",
   "metadata": {
    "execution": {
     "iopub.execute_input": "2021-08-24T03:56:15.045396Z",
     "iopub.status.busy": "2021-08-24T03:56:15.044673Z",
     "iopub.status.idle": "2021-08-24T03:56:15.050647Z",
     "shell.execute_reply": "2021-08-24T03:56:15.049622Z",
     "shell.execute_reply.started": "2021-08-24T03:51:44.321134Z"
    },
    "papermill": {
     "duration": 0.03845,
     "end_time": "2021-08-24T03:56:15.050948",
     "exception": false,
     "start_time": "2021-08-24T03:56:15.012498",
     "status": "completed"
    },
    "tags": []
   },
   "outputs": [
    {
     "name": "stdout",
     "output_type": "stream",
     "text": [
      "(15120, 56)\n",
      "(565892, 55)\n"
     ]
    }
   ],
   "source": [
    "print(data.shape)\n",
    "print(test_data.shape)"
   ]
  },
  {
   "cell_type": "code",
   "execution_count": 7,
   "id": "e71564ea",
   "metadata": {
    "execution": {
     "iopub.execute_input": "2021-08-24T03:56:15.103362Z",
     "iopub.status.busy": "2021-08-24T03:56:15.102333Z",
     "iopub.status.idle": "2021-08-24T03:56:15.108017Z",
     "shell.execute_reply": "2021-08-24T03:56:15.107401Z",
     "shell.execute_reply.started": "2021-08-24T03:51:44.904941Z"
    },
    "papermill": {
     "duration": 0.035217,
     "end_time": "2021-08-24T03:56:15.108170",
     "exception": false,
     "start_time": "2021-08-24T03:56:15.072953",
     "status": "completed"
    },
    "tags": []
   },
   "outputs": [
    {
     "data": {
      "text/plain": [
       "Index(['Id', 'Elevation', 'Aspect', 'Slope',\n",
       "       'Horizontal_Distance_To_Hydrology', 'Vertical_Distance_To_Hydrology',\n",
       "       'Horizontal_Distance_To_Roadways', 'Hillshade_9am', 'Hillshade_Noon',\n",
       "       'Hillshade_3pm', 'Horizontal_Distance_To_Fire_Points',\n",
       "       'Wilderness_Area1', 'Wilderness_Area2', 'Wilderness_Area3',\n",
       "       'Wilderness_Area4', 'Soil_Type1', 'Soil_Type2', 'Soil_Type3',\n",
       "       'Soil_Type4', 'Soil_Type5', 'Soil_Type6', 'Soil_Type7', 'Soil_Type8',\n",
       "       'Soil_Type9', 'Soil_Type10', 'Soil_Type11', 'Soil_Type12',\n",
       "       'Soil_Type13', 'Soil_Type14', 'Soil_Type15', 'Soil_Type16',\n",
       "       'Soil_Type17', 'Soil_Type18', 'Soil_Type19', 'Soil_Type20',\n",
       "       'Soil_Type21', 'Soil_Type22', 'Soil_Type23', 'Soil_Type24',\n",
       "       'Soil_Type25', 'Soil_Type26', 'Soil_Type27', 'Soil_Type28',\n",
       "       'Soil_Type29', 'Soil_Type30', 'Soil_Type31', 'Soil_Type32',\n",
       "       'Soil_Type33', 'Soil_Type34', 'Soil_Type35', 'Soil_Type36',\n",
       "       'Soil_Type37', 'Soil_Type38', 'Soil_Type39', 'Soil_Type40',\n",
       "       'Cover_Type'],\n",
       "      dtype='object')"
      ]
     },
     "execution_count": 7,
     "metadata": {},
     "output_type": "execute_result"
    }
   ],
   "source": [
    "data.columns"
   ]
  },
  {
   "cell_type": "markdown",
   "id": "64b84c81",
   "metadata": {
    "papermill": {
     "duration": 0.02074,
     "end_time": "2021-08-24T03:56:15.150051",
     "exception": false,
     "start_time": "2021-08-24T03:56:15.129311",
     "status": "completed"
    },
    "tags": []
   },
   "source": [
    "**visualize the relation between cover type and numeric features**"
   ]
  },
  {
   "cell_type": "code",
   "execution_count": 8,
   "id": "a6a307e2",
   "metadata": {
    "execution": {
     "iopub.execute_input": "2021-08-24T03:56:15.219273Z",
     "iopub.status.busy": "2021-08-24T03:56:15.218490Z",
     "iopub.status.idle": "2021-08-24T03:56:20.689841Z",
     "shell.execute_reply": "2021-08-24T03:56:20.688570Z",
     "shell.execute_reply.started": "2021-08-24T03:51:46.168831Z"
    },
    "papermill": {
     "duration": 5.518802,
     "end_time": "2021-08-24T03:56:20.690009",
     "exception": false,
     "start_time": "2021-08-24T03:56:15.171207",
     "status": "completed"
    },
    "tags": []
   },
   "outputs": [
    {
     "data": {
      "image/png": "[encoded data removed]",
      "text/plain": [
       "<Figure size 1440x1440 with 10 Axes>"
      ]
     },
     "metadata": {
      "needs_background": "light"
     },
     "output_type": "display_data"
    }
   ],
   "source": [
    "l = ['Elevation','Aspect', 'Slope','Horizontal_Distance_To_Hydrology', 'Vertical_Distance_To_Hydrology',\n",
    "       'Horizontal_Distance_To_Roadways', 'Hillshade_9am', 'Hillshade_Noon',\n",
    "        'Hillshade_3pm', 'Horizontal_Distance_To_Fire_Points']\n",
    "\n",
    "fig = plt.figure(figsize=(20,20))\n",
    "fig.subplots_adjust(hspace=0.5, wspace=0.5)\n",
    "i=1\n",
    "rows = 5\n",
    "cols = 2\n",
    "for col in l:\n",
    "    ax = fig.add_subplot(rows, cols, i)\n",
    "    sns.barplot(x=\"Cover_Type\", y=col, data=data)\n",
    "    plt.ylabel(col)\n",
    "    i+=1"
   ]
  },
  {
   "cell_type": "markdown",
   "id": "e7b1ad76",
   "metadata": {
    "papermill": {
     "duration": 0.023197,
     "end_time": "2021-08-24T03:56:20.740320",
     "exception": false,
     "start_time": "2021-08-24T03:56:20.717123",
     "status": "completed"
    },
    "tags": []
   },
   "source": [
    "**visualize the relation between cover type and categorical features**"
   ]
  },
  {
   "cell_type": "code",
   "execution_count": 9,
   "id": "d88ca513",
   "metadata": {
    "execution": {
     "iopub.execute_input": "2021-08-24T03:56:20.818398Z",
     "iopub.status.busy": "2021-08-24T03:56:20.812991Z",
     "iopub.status.idle": "2021-08-24T03:56:44.223280Z",
     "shell.execute_reply": "2021-08-24T03:56:44.223766Z",
     "shell.execute_reply.started": "2021-08-24T03:51:51.973675Z"
    },
    "papermill": {
     "duration": 23.460722,
     "end_time": "2021-08-24T03:56:44.223963",
     "exception": false,
     "start_time": "2021-08-24T03:56:20.763241",
     "status": "completed"
    },
    "tags": []
   },
   "outputs": [
    {
     "data": {
      "image/png": "[encoded data removed]",
      "text/plain": [
       "<Figure size 1440x1440 with 44 Axes>"
      ]
     },
     "metadata": {
      "needs_background": "light"
     },
     "output_type": "display_data"
    }
   ],
   "source": [
    "l = ['Wilderness_Area1', 'Wilderness_Area2', 'Wilderness_Area3',\n",
    "       'Wilderness_Area4', 'Soil_Type1', 'Soil_Type2', 'Soil_Type3',\n",
    "       'Soil_Type4', 'Soil_Type5', 'Soil_Type6', 'Soil_Type7', 'Soil_Type8',\n",
    "       'Soil_Type9', 'Soil_Type10', 'Soil_Type11', 'Soil_Type12',\n",
    "       'Soil_Type13', 'Soil_Type14', 'Soil_Type15', 'Soil_Type16',\n",
    "       'Soil_Type17', 'Soil_Type18', 'Soil_Type19', 'Soil_Type20',\n",
    "       'Soil_Type21', 'Soil_Type22', 'Soil_Type23', 'Soil_Type24',\n",
    "       'Soil_Type25', 'Soil_Type26', 'Soil_Type27', 'Soil_Type28',\n",
    "       'Soil_Type29', 'Soil_Type30', 'Soil_Type31', 'Soil_Type32',\n",
    "       'Soil_Type33', 'Soil_Type34', 'Soil_Type35', 'Soil_Type36',\n",
    "       'Soil_Type37', 'Soil_Type38', 'Soil_Type39', 'Soil_Type40']\n",
    "fig = plt.figure(figsize=(20,20))\n",
    "fig.subplots_adjust(hspace=0.5, wspace=0.5)\n",
    "i=1\n",
    "rows = 10\n",
    "cols = 5\n",
    "for col in l:\n",
    "    ax = fig.add_subplot(rows, cols, i)\n",
    "    sns.barplot(x=\"Cover_Type\", y=col, data=data)\n",
    "    plt.ylabel(col)\n",
    "    i+=1"
   ]
  },
  {
   "cell_type": "markdown",
   "id": "913ac4bb",
   "metadata": {
    "papermill": {
     "duration": 0.025393,
     "end_time": "2021-08-24T03:56:44.276089",
     "exception": false,
     "start_time": "2021-08-24T03:56:44.250696",
     "status": "completed"
    },
    "tags": []
   },
   "source": [
    "**Specify training features and labels**"
   ]
  },
  {
   "cell_type": "code",
   "execution_count": 10,
   "id": "c82e0972",
   "metadata": {
    "execution": {
     "iopub.execute_input": "2021-08-24T03:56:44.337152Z",
     "iopub.status.busy": "2021-08-24T03:56:44.336378Z",
     "iopub.status.idle": "2021-08-24T03:56:44.340222Z",
     "shell.execute_reply": "2021-08-24T03:56:44.339636Z",
     "shell.execute_reply.started": "2021-08-24T03:52:16.859425Z"
    },
    "papermill": {
     "duration": 0.038243,
     "end_time": "2021-08-24T03:56:44.340382",
     "exception": false,
     "start_time": "2021-08-24T03:56:44.302139",
     "status": "completed"
    },
    "tags": []
   },
   "outputs": [],
   "source": [
    "labels = data['Cover_Type']\n",
    "features =['Elevation', 'Aspect', 'Slope',\n",
    "       'Horizontal_Distance_To_Hydrology', 'Vertical_Distance_To_Hydrology',\n",
    "       'Horizontal_Distance_To_Roadways', 'Hillshade_9am', 'Hillshade_Noon',\n",
    "       'Hillshade_3pm', 'Horizontal_Distance_To_Fire_Points',\n",
    "       'Wilderness_Area1', 'Wilderness_Area2', 'Wilderness_Area3',\n",
    "       'Wilderness_Area4', 'Soil_Type1', 'Soil_Type2', 'Soil_Type3',\n",
    "       'Soil_Type4', 'Soil_Type5', 'Soil_Type6', 'Soil_Type7', 'Soil_Type8',\n",
    "       'Soil_Type9', 'Soil_Type10', 'Soil_Type11', 'Soil_Type12',\n",
    "       'Soil_Type13', 'Soil_Type14', 'Soil_Type15', 'Soil_Type16',\n",
    "       'Soil_Type17', 'Soil_Type18', 'Soil_Type19', 'Soil_Type20',\n",
    "       'Soil_Type21', 'Soil_Type22', 'Soil_Type23', 'Soil_Type24',\n",
    "       'Soil_Type25', 'Soil_Type26', 'Soil_Type27', 'Soil_Type28',\n",
    "       'Soil_Type29', 'Soil_Type30', 'Soil_Type31', 'Soil_Type32',\n",
    "       'Soil_Type33', 'Soil_Type34', 'Soil_Type35', 'Soil_Type36',\n",
    "       'Soil_Type37', 'Soil_Type38', 'Soil_Type39', 'Soil_Type40']"
   ]
  },
  {
   "cell_type": "markdown",
   "id": "622f1c8d",
   "metadata": {
    "papermill": {
     "duration": 0.02867,
     "end_time": "2021-08-24T03:56:44.396253",
     "exception": false,
     "start_time": "2021-08-24T03:56:44.367583",
     "status": "completed"
    },
    "tags": []
   },
   "source": [
    "**Split data into training and validition**"
   ]
  },
  {
   "cell_type": "code",
   "execution_count": 11,
   "id": "b28f621d",
   "metadata": {
    "execution": {
     "iopub.execute_input": "2021-08-24T03:56:44.471069Z",
     "iopub.status.busy": "2021-08-24T03:56:44.470320Z",
     "iopub.status.idle": "2021-08-24T03:56:44.478589Z",
     "shell.execute_reply": "2021-08-24T03:56:44.477994Z",
     "shell.execute_reply.started": "2021-08-24T03:52:16.868825Z"
    },
    "papermill": {
     "duration": 0.052194,
     "end_time": "2021-08-24T03:56:44.478756",
     "exception": false,
     "start_time": "2021-08-24T03:56:44.426562",
     "status": "completed"
    },
    "tags": []
   },
   "outputs": [],
   "source": [
    "x = data.loc[:,features]\n",
    "y = labels\n",
    "x_train, x_val, y_train, y_val = train_test_split( x.values, y.values, test_size=0.1, random_state=5 )"
   ]
  },
  {
   "cell_type": "markdown",
   "id": "d9cf4d45",
   "metadata": {
    "papermill": {
     "duration": 0.026093,
     "end_time": "2021-08-24T03:56:44.531433",
     "exception": false,
     "start_time": "2021-08-24T03:56:44.505340",
     "status": "completed"
    },
    "tags": []
   },
   "source": [
    "**try to classify this problem by 3 classifiers and get best of them**\n",
    "\n",
    "**KNN**"
   ]
  },
  {
   "cell_type": "code",
   "execution_count": 12,
   "id": "d37a9450",
   "metadata": {
    "execution": {
     "iopub.execute_input": "2021-08-24T03:56:44.602173Z",
     "iopub.status.busy": "2021-08-24T03:56:44.601245Z",
     "iopub.status.idle": "2021-08-24T03:56:44.821187Z",
     "shell.execute_reply": "2021-08-24T03:56:44.820470Z",
     "shell.execute_reply.started": "2021-08-24T03:52:16.899231Z"
    },
    "papermill": {
     "duration": 0.256532,
     "end_time": "2021-08-24T03:56:44.821347",
     "exception": false,
     "start_time": "2021-08-24T03:56:44.564815",
     "status": "completed"
    },
    "tags": []
   },
   "outputs": [
    {
     "data": {
      "text/plain": [
       "0.843915343915344"
      ]
     },
     "execution_count": 12,
     "metadata": {},
     "output_type": "execute_result"
    }
   ],
   "source": [
    "knn = KNeighborsClassifier(n_neighbors=1)\n",
    "knn.fit(x_train, y_train)\n",
    "pred = knn.predict(x_val)\n",
    "accuracy_score(y_val, pred)"
   ]
  },
  {
   "cell_type": "markdown",
   "id": "dc73d9b4",
   "metadata": {
    "papermill": {
     "duration": 0.025823,
     "end_time": "2021-08-24T03:56:44.873514",
     "exception": false,
     "start_time": "2021-08-24T03:56:44.847691",
     "status": "completed"
    },
    "tags": []
   },
   "source": [
    "**Random Forest**"
   ]
  },
  {
   "cell_type": "code",
   "execution_count": 13,
   "id": "64ea57a9",
   "metadata": {
    "execution": {
     "iopub.execute_input": "2021-08-24T03:56:44.931907Z",
     "iopub.status.busy": "2021-08-24T03:56:44.930846Z",
     "iopub.status.idle": "2021-08-24T03:57:10.539850Z",
     "shell.execute_reply": "2021-08-24T03:57:10.539223Z",
     "shell.execute_reply.started": "2021-08-24T03:52:17.151201Z"
    },
    "papermill": {
     "duration": 25.640352,
     "end_time": "2021-08-24T03:57:10.540019",
     "exception": false,
     "start_time": "2021-08-24T03:56:44.899667",
     "status": "completed"
    },
    "tags": []
   },
   "outputs": [
    {
     "data": {
      "text/plain": [
       "0.873015873015873"
      ]
     },
     "execution_count": 13,
     "metadata": {},
     "output_type": "execute_result"
    }
   ],
   "source": [
    "RF = RandomForestClassifier(n_estimators=1000, random_state=5)\n",
    "RF.fit(x_train, y_train)\n",
    "pred = RF.predict(x_val)\n",
    "accuracy_score(y_val,pred)"
   ]
  },
  {
   "cell_type": "markdown",
   "id": "caa825de",
   "metadata": {
    "papermill": {
     "duration": 0.027066,
     "end_time": "2021-08-24T03:57:10.595002",
     "exception": false,
     "start_time": "2021-08-24T03:57:10.567936",
     "status": "completed"
    },
    "tags": []
   },
   "source": [
    "**Desicion Tree**"
   ]
  },
  {
   "cell_type": "code",
   "execution_count": 14,
   "id": "ad3f2117",
   "metadata": {
    "execution": {
     "iopub.execute_input": "2021-08-24T03:57:10.656756Z",
     "iopub.status.busy": "2021-08-24T03:57:10.655701Z",
     "iopub.status.idle": "2021-08-24T03:57:10.786808Z",
     "shell.execute_reply": "2021-08-24T03:57:10.786181Z",
     "shell.execute_reply.started": "2021-08-24T03:52:44.906837Z"
    },
    "papermill": {
     "duration": 0.164141,
     "end_time": "2021-08-24T03:57:10.786993",
     "exception": false,
     "start_time": "2021-08-24T03:57:10.622852",
     "status": "completed"
    },
    "tags": []
   },
   "outputs": [
    {
     "data": {
      "text/plain": [
       "0.7652116402116402"
      ]
     },
     "execution_count": 14,
     "metadata": {},
     "output_type": "execute_result"
    }
   ],
   "source": [
    "DT = DecisionTreeClassifier(max_depth=10)\n",
    "DT.fit(x_train, y_train)\n",
    "pred = DT.predict(x_val)\n",
    "accuracy_score(y_val,pred)"
   ]
  },
  {
   "cell_type": "markdown",
   "id": "6e00b334",
   "metadata": {
    "papermill": {
     "duration": 0.027621,
     "end_time": "2021-08-24T03:57:10.842702",
     "exception": false,
     "start_time": "2021-08-24T03:57:10.815081",
     "status": "completed"
    },
    "tags": []
   },
   "source": [
    "**get forest cover type for test data**"
   ]
  },
  {
   "cell_type": "code",
   "execution_count": 15,
   "id": "3f4267d0",
   "metadata": {
    "execution": {
     "iopub.execute_input": "2021-08-24T03:57:11.005762Z",
     "iopub.status.busy": "2021-08-24T03:57:11.005117Z",
     "iopub.status.idle": "2021-08-24T03:58:46.365449Z",
     "shell.execute_reply": "2021-08-24T03:58:46.366622Z",
     "shell.execute_reply.started": "2021-08-24T03:52:45.052740Z"
    },
    "papermill": {
     "duration": 95.496534,
     "end_time": "2021-08-24T03:58:46.367010",
     "exception": false,
     "start_time": "2021-08-24T03:57:10.870476",
     "status": "completed"
    },
    "tags": []
   },
   "outputs": [
    {
     "data": {
      "text/plain": [
       "array([2, 1, 2, ..., 3, 3, 3])"
      ]
     },
     "execution_count": 15,
     "metadata": {},
     "output_type": "execute_result"
    }
   ],
   "source": [
    "x_test = test_data.loc[:,features]\n",
    "y_test = RF.predict(x_test)\n",
    "y_test"
   ]
  },
  {
   "cell_type": "markdown",
   "id": "cc97c8d2",
   "metadata": {
    "papermill": {
     "duration": 0.031693,
     "end_time": "2021-08-24T03:58:46.430750",
     "exception": false,
     "start_time": "2021-08-24T03:58:46.399057",
     "status": "completed"
    },
    "tags": []
   },
   "source": [
    "**generate submission file**"
   ]
  },
  {
   "cell_type": "code",
   "execution_count": 16,
   "id": "cd513184",
   "metadata": {
    "execution": {
     "iopub.execute_input": "2021-08-24T03:58:46.502012Z",
     "iopub.status.busy": "2021-08-24T03:58:46.499937Z",
     "iopub.status.idle": "2021-08-24T03:58:47.647225Z",
     "shell.execute_reply": "2021-08-24T03:58:47.646068Z",
     "shell.execute_reply.started": "2021-08-24T03:54:26.685690Z"
    },
    "papermill": {
     "duration": 1.187109,
     "end_time": "2021-08-24T03:58:47.647380",
     "exception": false,
     "start_time": "2021-08-24T03:58:46.460271",
     "status": "completed"
    },
    "tags": []
   },
   "outputs": [],
   "source": [
    "submission = pd.DataFrame()\n",
    "submission['Id'] = test_data[\"Id\"]\n",
    "submission['Cover_Type'] = y_test\n",
    "submission.to_csv('submission.csv', index=False)"
   ]
  },
  {
   "cell_type": "markdown",
   "id": "ac8e6386",
   "metadata": {
    "papermill": {
     "duration": 0.0279,
     "end_time": "2021-08-24T03:58:47.707686",
     "exception": false,
     "start_time": "2021-08-24T03:58:47.679786",
     "status": "completed"
    },
    "tags": []
   },
   "source": [
    "\n",
    "**Conclusion**\n",
    "\n",
    "**1 - No missing data**\n",
    "\n",
    "**2 - No duplicates in data**\n",
    "\n",
    "**3 - the cover type is affected by many variables**\n",
    "\n",
    "**4 - KNN clasifier is the best with 0.87 val accuracy**"
   ]
  }
 ],
 "metadata": {
  "kernelspec": {
   "display_name": "Python 3",
   "language": "python",
   "name": "python3"
  },
  "language_info": {
   "codemirror_mode": {
    "name": "ipython",
    "version": 3
   },
   "file_extension": ".py",
   "mimetype": "text/x-python",
   "name": "python",
   "nbconvert_exporter": "python",
   "pygments_lexer": "ipython3",
   "version": "3.7.10"
  },
  "papermill": {
   "default_parameters": {},
   "duration": 167.889427,
   "end_time": "2021-08-24T03:58:49.673466",
   "environment_variables": {},
   "exception": null,
   "input_path": "__notebook__.ipynb",
   "output_path": "__notebook__.ipynb",
   "parameters": {},
   "start_time": "2021-08-24T03:56:01.784039",
   "version": "2.3.3"
  }
 },
 "nbformat": 4,
 "nbformat_minor": 5
}
